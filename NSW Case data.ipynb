{
 "cells": [
  {
   "cell_type": "code",
   "execution_count": 57,
   "id": "5232cc05",
   "metadata": {},
   "outputs": [],
   "source": [
    "import pandas as pd\n",
    "from matplotlib import pyplot as plt\n",
    "%matplotlib inline"
   ]
  },
  {
   "cell_type": "code",
   "execution_count": 151,
   "id": "62c6bce0",
   "metadata": {},
   "outputs": [
    {
     "data": {
      "text/plain": [
       "'https://covidlive.com.au/report/daily-cases/tas'"
      ]
     },
     "execution_count": 151,
     "metadata": {},
     "output_type": "execute_result"
    }
   ],
   "source": [
    "url = \"https://covidlive.com.au/report/daily-cases/tas\"\n",
    "url"
   ]
  },
  {
   "cell_type": "code",
   "execution_count": 167,
   "id": "bf2a5cd1",
   "metadata": {},
   "outputs": [
    {
     "data": {
      "text/html": [
       "<div>\n",
       "<style scoped>\n",
       "    .dataframe tbody tr th:only-of-type {\n",
       "        vertical-align: middle;\n",
       "    }\n",
       "\n",
       "    .dataframe tbody tr th {\n",
       "        vertical-align: top;\n",
       "    }\n",
       "\n",
       "    .dataframe thead th {\n",
       "        text-align: right;\n",
       "    }\n",
       "</style>\n",
       "<table border=\"1\" class=\"dataframe\">\n",
       "  <thead>\n",
       "    <tr style=\"text-align: right;\">\n",
       "      <th></th>\n",
       "      <th>DATE</th>\n",
       "      <th>NEW</th>\n",
       "      <th>CASES</th>\n",
       "      <th>VAR</th>\n",
       "      <th>NET</th>\n",
       "    </tr>\n",
       "  </thead>\n",
       "  <tbody>\n",
       "    <tr>\n",
       "      <th>0</th>\n",
       "      <td>05 Feb 22</td>\n",
       "      <td>26556</td>\n",
       "      <td>2704275</td>\n",
       "      <td>NaN</td>\n",
       "      <td>26532</td>\n",
       "    </tr>\n",
       "    <tr>\n",
       "      <th>1</th>\n",
       "      <td>04 Feb 22</td>\n",
       "      <td>32213</td>\n",
       "      <td>2677743</td>\n",
       "      <td>NaN</td>\n",
       "      <td>32138</td>\n",
       "    </tr>\n",
       "    <tr>\n",
       "      <th>2</th>\n",
       "      <td>03 Feb 22</td>\n",
       "      <td>37206</td>\n",
       "      <td>2645605</td>\n",
       "      <td>NaN</td>\n",
       "      <td>33384</td>\n",
       "    </tr>\n",
       "    <tr>\n",
       "      <th>3</th>\n",
       "      <td>02 Feb 22</td>\n",
       "      <td>40090</td>\n",
       "      <td>2612221</td>\n",
       "      <td>NaN</td>\n",
       "      <td>40659</td>\n",
       "    </tr>\n",
       "    <tr>\n",
       "      <th>4</th>\n",
       "      <td>01 Feb 22</td>\n",
       "      <td>35198</td>\n",
       "      <td>2571562</td>\n",
       "      <td>NaN</td>\n",
       "      <td>33931</td>\n",
       "    </tr>\n",
       "    <tr>\n",
       "      <th>...</th>\n",
       "      <td>...</td>\n",
       "      <td>...</td>\n",
       "      <td>...</td>\n",
       "      <td>...</td>\n",
       "      <td>...</td>\n",
       "    </tr>\n",
       "    <tr>\n",
       "      <th>738</th>\n",
       "      <td>29 Jan 20</td>\n",
       "      <td>4</td>\n",
       "      <td>9</td>\n",
       "      <td>NaN</td>\n",
       "      <td>4</td>\n",
       "    </tr>\n",
       "    <tr>\n",
       "      <th>739</th>\n",
       "      <td>28 Jan 20</td>\n",
       "      <td>0</td>\n",
       "      <td>5</td>\n",
       "      <td>NaN</td>\n",
       "      <td>0</td>\n",
       "    </tr>\n",
       "    <tr>\n",
       "      <th>740</th>\n",
       "      <td>27 Jan 20</td>\n",
       "      <td>1</td>\n",
       "      <td>5</td>\n",
       "      <td>NaN</td>\n",
       "      <td>1</td>\n",
       "    </tr>\n",
       "    <tr>\n",
       "      <th>741</th>\n",
       "      <td>26 Jan 20</td>\n",
       "      <td>0</td>\n",
       "      <td>4</td>\n",
       "      <td>NaN</td>\n",
       "      <td>0</td>\n",
       "    </tr>\n",
       "    <tr>\n",
       "      <th>742</th>\n",
       "      <td>25 Jan 20</td>\n",
       "      <td>0</td>\n",
       "      <td>4</td>\n",
       "      <td>NaN</td>\n",
       "      <td>-</td>\n",
       "    </tr>\n",
       "  </tbody>\n",
       "</table>\n",
       "<p>743 rows × 5 columns</p>\n",
       "</div>"
      ],
      "text/plain": [
       "          DATE    NEW    CASES  VAR    NET\n",
       "0    05 Feb 22  26556  2704275  NaN  26532\n",
       "1    04 Feb 22  32213  2677743  NaN  32138\n",
       "2    03 Feb 22  37206  2645605  NaN  33384\n",
       "3    02 Feb 22  40090  2612221  NaN  40659\n",
       "4    01 Feb 22  35198  2571562  NaN  33931\n",
       "..         ...    ...      ...  ...    ...\n",
       "738  29 Jan 20      4        9  NaN      4\n",
       "739  28 Jan 20      0        5  NaN      0\n",
       "740  27 Jan 20      1        5  NaN      1\n",
       "741  26 Jan 20      0        4  NaN      0\n",
       "742  25 Jan 20      0        4  NaN      -\n",
       "\n",
       "[743 rows x 5 columns]"
      ]
     },
     "execution_count": 167,
     "metadata": {},
     "output_type": "execute_result"
    }
   ],
   "source": [
    "df = pd.read_html(url, header=0)\n",
    "df[1]"
   ]
  },
  {
   "cell_type": "code",
   "execution_count": 153,
   "id": "fffb6a05",
   "metadata": {},
   "outputs": [
    {
     "data": {
      "text/plain": [
       "2"
      ]
     },
     "execution_count": 153,
     "metadata": {},
     "output_type": "execute_result"
    }
   ],
   "source": [
    "# Count the number of tables\n",
    "len(df)"
   ]
  },
  {
   "cell_type": "code",
   "execution_count": 154,
   "id": "f051a7c7",
   "metadata": {},
   "outputs": [
    {
     "data": {
      "text/html": [
       "<div>\n",
       "<style scoped>\n",
       "    .dataframe tbody tr th:only-of-type {\n",
       "        vertical-align: middle;\n",
       "    }\n",
       "\n",
       "    .dataframe tbody tr th {\n",
       "        vertical-align: top;\n",
       "    }\n",
       "\n",
       "    .dataframe thead th {\n",
       "        text-align: right;\n",
       "    }\n",
       "</style>\n",
       "<table border=\"1\" class=\"dataframe\">\n",
       "  <thead>\n",
       "    <tr style=\"text-align: right;\">\n",
       "      <th></th>\n",
       "      <th>DATE</th>\n",
       "      <th>NEW</th>\n",
       "      <th>CASES</th>\n",
       "      <th>VAR</th>\n",
       "      <th>NET</th>\n",
       "    </tr>\n",
       "  </thead>\n",
       "  <tbody>\n",
       "    <tr>\n",
       "      <th>0</th>\n",
       "      <td>05 Feb 22</td>\n",
       "      <td>483.0</td>\n",
       "      <td>30788</td>\n",
       "      <td>NaN</td>\n",
       "      <td>471</td>\n",
       "    </tr>\n",
       "    <tr>\n",
       "      <th>1</th>\n",
       "      <td>04 Feb 22</td>\n",
       "      <td>570.0</td>\n",
       "      <td>30317</td>\n",
       "      <td>NaN</td>\n",
       "      <td>565</td>\n",
       "    </tr>\n",
       "    <tr>\n",
       "      <th>2</th>\n",
       "      <td>03 Feb 22</td>\n",
       "      <td>656.0</td>\n",
       "      <td>29752</td>\n",
       "      <td>NaN</td>\n",
       "      <td>600</td>\n",
       "    </tr>\n",
       "    <tr>\n",
       "      <th>3</th>\n",
       "      <td>02 Feb 22</td>\n",
       "      <td>666.0</td>\n",
       "      <td>29152</td>\n",
       "      <td>NaN</td>\n",
       "      <td>661</td>\n",
       "    </tr>\n",
       "    <tr>\n",
       "      <th>4</th>\n",
       "      <td>01 Feb 22</td>\n",
       "      <td>699.0</td>\n",
       "      <td>28491</td>\n",
       "      <td>NaN</td>\n",
       "      <td>-1010</td>\n",
       "    </tr>\n",
       "    <tr>\n",
       "      <th>...</th>\n",
       "      <td>...</td>\n",
       "      <td>...</td>\n",
       "      <td>...</td>\n",
       "      <td>...</td>\n",
       "      <td>...</td>\n",
       "    </tr>\n",
       "    <tr>\n",
       "      <th>738</th>\n",
       "      <td>29 Jan 20</td>\n",
       "      <td>0.0</td>\n",
       "      <td>0</td>\n",
       "      <td>NaN</td>\n",
       "      <td>0</td>\n",
       "    </tr>\n",
       "    <tr>\n",
       "      <th>739</th>\n",
       "      <td>28 Jan 20</td>\n",
       "      <td>0.0</td>\n",
       "      <td>0</td>\n",
       "      <td>NaN</td>\n",
       "      <td>0</td>\n",
       "    </tr>\n",
       "    <tr>\n",
       "      <th>740</th>\n",
       "      <td>27 Jan 20</td>\n",
       "      <td>0.0</td>\n",
       "      <td>0</td>\n",
       "      <td>NaN</td>\n",
       "      <td>0</td>\n",
       "    </tr>\n",
       "    <tr>\n",
       "      <th>741</th>\n",
       "      <td>26 Jan 20</td>\n",
       "      <td>0.0</td>\n",
       "      <td>0</td>\n",
       "      <td>NaN</td>\n",
       "      <td>0</td>\n",
       "    </tr>\n",
       "    <tr>\n",
       "      <th>742</th>\n",
       "      <td>25 Jan 20</td>\n",
       "      <td>NaN</td>\n",
       "      <td>0</td>\n",
       "      <td>NaN</td>\n",
       "      <td>-</td>\n",
       "    </tr>\n",
       "  </tbody>\n",
       "</table>\n",
       "<p>743 rows × 5 columns</p>\n",
       "</div>"
      ],
      "text/plain": [
       "          DATE    NEW  CASES  VAR    NET\n",
       "0    05 Feb 22  483.0  30788  NaN    471\n",
       "1    04 Feb 22  570.0  30317  NaN    565\n",
       "2    03 Feb 22  656.0  29752  NaN    600\n",
       "3    02 Feb 22  666.0  29152  NaN    661\n",
       "4    01 Feb 22  699.0  28491  NaN  -1010\n",
       "..         ...    ...    ...  ...    ...\n",
       "738  29 Jan 20    0.0      0  NaN      0\n",
       "739  28 Jan 20    0.0      0  NaN      0\n",
       "740  27 Jan 20    0.0      0  NaN      0\n",
       "741  26 Jan 20    0.0      0  NaN      0\n",
       "742  25 Jan 20    NaN      0  NaN      -\n",
       "\n",
       "[743 rows x 5 columns]"
      ]
     },
     "execution_count": 154,
     "metadata": {},
     "output_type": "execute_result"
    }
   ],
   "source": [
    "#Select second table with case data\n",
    "NSW = df[1]\n",
    "NSW"
   ]
  },
  {
   "cell_type": "code",
   "execution_count": 155,
   "id": "2092fcd2",
   "metadata": {},
   "outputs": [
    {
     "data": {
      "text/html": [
       "<div>\n",
       "<style scoped>\n",
       "    .dataframe tbody tr th:only-of-type {\n",
       "        vertical-align: middle;\n",
       "    }\n",
       "\n",
       "    .dataframe tbody tr th {\n",
       "        vertical-align: top;\n",
       "    }\n",
       "\n",
       "    .dataframe thead th {\n",
       "        text-align: right;\n",
       "    }\n",
       "</style>\n",
       "<table border=\"1\" class=\"dataframe\">\n",
       "  <thead>\n",
       "    <tr style=\"text-align: right;\">\n",
       "      <th></th>\n",
       "      <th>DATE</th>\n",
       "      <th>NEW</th>\n",
       "      <th>CASES</th>\n",
       "    </tr>\n",
       "  </thead>\n",
       "  <tbody>\n",
       "    <tr>\n",
       "      <th>0</th>\n",
       "      <td>2022-02-05</td>\n",
       "      <td>483.0</td>\n",
       "      <td>30788</td>\n",
       "    </tr>\n",
       "    <tr>\n",
       "      <th>1</th>\n",
       "      <td>2022-02-04</td>\n",
       "      <td>570.0</td>\n",
       "      <td>30317</td>\n",
       "    </tr>\n",
       "    <tr>\n",
       "      <th>2</th>\n",
       "      <td>2022-02-03</td>\n",
       "      <td>656.0</td>\n",
       "      <td>29752</td>\n",
       "    </tr>\n",
       "    <tr>\n",
       "      <th>3</th>\n",
       "      <td>2022-02-02</td>\n",
       "      <td>666.0</td>\n",
       "      <td>29152</td>\n",
       "    </tr>\n",
       "    <tr>\n",
       "      <th>4</th>\n",
       "      <td>2022-02-01</td>\n",
       "      <td>699.0</td>\n",
       "      <td>28491</td>\n",
       "    </tr>\n",
       "    <tr>\n",
       "      <th>...</th>\n",
       "      <td>...</td>\n",
       "      <td>...</td>\n",
       "      <td>...</td>\n",
       "    </tr>\n",
       "    <tr>\n",
       "      <th>738</th>\n",
       "      <td>2020-01-29</td>\n",
       "      <td>0.0</td>\n",
       "      <td>0</td>\n",
       "    </tr>\n",
       "    <tr>\n",
       "      <th>739</th>\n",
       "      <td>2020-01-28</td>\n",
       "      <td>0.0</td>\n",
       "      <td>0</td>\n",
       "    </tr>\n",
       "    <tr>\n",
       "      <th>740</th>\n",
       "      <td>2020-01-27</td>\n",
       "      <td>0.0</td>\n",
       "      <td>0</td>\n",
       "    </tr>\n",
       "    <tr>\n",
       "      <th>741</th>\n",
       "      <td>2020-01-26</td>\n",
       "      <td>0.0</td>\n",
       "      <td>0</td>\n",
       "    </tr>\n",
       "    <tr>\n",
       "      <th>742</th>\n",
       "      <td>2020-01-25</td>\n",
       "      <td>0.0</td>\n",
       "      <td>0</td>\n",
       "    </tr>\n",
       "  </tbody>\n",
       "</table>\n",
       "<p>743 rows × 3 columns</p>\n",
       "</div>"
      ],
      "text/plain": [
       "          DATE    NEW  CASES\n",
       "0   2022-02-05  483.0  30788\n",
       "1   2022-02-04  570.0  30317\n",
       "2   2022-02-03  656.0  29752\n",
       "3   2022-02-02  666.0  29152\n",
       "4   2022-02-01  699.0  28491\n",
       "..         ...    ...    ...\n",
       "738 2020-01-29    0.0      0\n",
       "739 2020-01-28    0.0      0\n",
       "740 2020-01-27    0.0      0\n",
       "741 2020-01-26    0.0      0\n",
       "742 2020-01-25    0.0      0\n",
       "\n",
       "[743 rows x 3 columns]"
      ]
     },
     "execution_count": 155,
     "metadata": {},
     "output_type": "execute_result"
    }
   ],
   "source": [
    "# Fill in any NA's with a 0\n",
    "NSW.NEW = NSW.NEW.fillna(0)\n",
    "# Convert the date to a python format\n",
    "NSW.DATE = pd.to_datetime(NSW.DATE, format='%d %b %y')\n",
    "\n",
    "#create a new dataframe with just the two columns of interest\n",
    "df_NSW = pd.concat([NSW.DATE, NSW.NEW, NSW.CASES],axis='columns')\n",
    "df_NSW"
   ]
  },
  {
   "cell_type": "code",
   "execution_count": 225,
   "id": "d35278d3",
   "metadata": {},
   "outputs": [
    {
     "data": {
      "text/html": [
       "<div>\n",
       "<style scoped>\n",
       "    .dataframe tbody tr th:only-of-type {\n",
       "        vertical-align: middle;\n",
       "    }\n",
       "\n",
       "    .dataframe tbody tr th {\n",
       "        vertical-align: top;\n",
       "    }\n",
       "\n",
       "    .dataframe thead th {\n",
       "        text-align: right;\n",
       "    }\n",
       "</style>\n",
       "<table border=\"1\" class=\"dataframe\">\n",
       "  <thead>\n",
       "    <tr style=\"text-align: right;\">\n",
       "      <th></th>\n",
       "      <th>DATE</th>\n",
       "      <th>NEW</th>\n",
       "      <th>CASES</th>\n",
       "    </tr>\n",
       "  </thead>\n",
       "  <tbody>\n",
       "    <tr>\n",
       "      <th>0</th>\n",
       "      <td>2022-02-05</td>\n",
       "      <td>483.0</td>\n",
       "      <td>30788</td>\n",
       "    </tr>\n",
       "    <tr>\n",
       "      <th>1</th>\n",
       "      <td>2022-02-04</td>\n",
       "      <td>570.0</td>\n",
       "      <td>30317</td>\n",
       "    </tr>\n",
       "    <tr>\n",
       "      <th>2</th>\n",
       "      <td>2022-02-03</td>\n",
       "      <td>656.0</td>\n",
       "      <td>29752</td>\n",
       "    </tr>\n",
       "    <tr>\n",
       "      <th>3</th>\n",
       "      <td>2022-02-02</td>\n",
       "      <td>666.0</td>\n",
       "      <td>29152</td>\n",
       "    </tr>\n",
       "    <tr>\n",
       "      <th>4</th>\n",
       "      <td>2022-02-01</td>\n",
       "      <td>699.0</td>\n",
       "      <td>28491</td>\n",
       "    </tr>\n",
       "    <tr>\n",
       "      <th>...</th>\n",
       "      <td>...</td>\n",
       "      <td>...</td>\n",
       "      <td>...</td>\n",
       "    </tr>\n",
       "    <tr>\n",
       "      <th>195</th>\n",
       "      <td>2021-07-25</td>\n",
       "      <td>0.0</td>\n",
       "      <td>234</td>\n",
       "    </tr>\n",
       "    <tr>\n",
       "      <th>196</th>\n",
       "      <td>2021-07-24</td>\n",
       "      <td>0.0</td>\n",
       "      <td>234</td>\n",
       "    </tr>\n",
       "    <tr>\n",
       "      <th>197</th>\n",
       "      <td>2021-07-23</td>\n",
       "      <td>0.0</td>\n",
       "      <td>234</td>\n",
       "    </tr>\n",
       "    <tr>\n",
       "      <th>198</th>\n",
       "      <td>2021-07-22</td>\n",
       "      <td>0.0</td>\n",
       "      <td>234</td>\n",
       "    </tr>\n",
       "    <tr>\n",
       "      <th>199</th>\n",
       "      <td>2021-07-21</td>\n",
       "      <td>0.0</td>\n",
       "      <td>234</td>\n",
       "    </tr>\n",
       "  </tbody>\n",
       "</table>\n",
       "<p>200 rows × 3 columns</p>\n",
       "</div>"
      ],
      "text/plain": [
       "          DATE    NEW  CASES\n",
       "0   2022-02-05  483.0  30788\n",
       "1   2022-02-04  570.0  30317\n",
       "2   2022-02-03  656.0  29752\n",
       "3   2022-02-02  666.0  29152\n",
       "4   2022-02-01  699.0  28491\n",
       "..         ...    ...    ...\n",
       "195 2021-07-25    0.0    234\n",
       "196 2021-07-24    0.0    234\n",
       "197 2021-07-23    0.0    234\n",
       "198 2021-07-22    0.0    234\n",
       "199 2021-07-21    0.0    234\n",
       "\n",
       "[200 rows x 3 columns]"
      ]
     },
     "execution_count": 225,
     "metadata": {},
     "output_type": "execute_result"
    }
   ],
   "source": [
    "plt.rcParams['figure.figsize'] = [15, 5]\n",
    "df = df_NSW[:200]\n",
    "df"
   ]
  },
  {
   "cell_type": "code",
   "execution_count": 157,
   "id": "a008bfb6",
   "metadata": {},
   "outputs": [
    {
     "data": {
      "text/plain": [
       "Text(0, 0.5, 'Cases')"
      ]
     },
     "execution_count": 157,
     "metadata": {},
     "output_type": "execute_result"
    },
    {
     "data": {
      "image/png": "[encoded data removed]",
      "text/plain": [
       "<Figure size 1080x360 with 1 Axes>"
      ]
     },
     "metadata": {
      "needs_background": "light"
     },
     "output_type": "display_data"
    }
   ],
   "source": [
    "df[1:200].plot(x='DATE', y='NEW', legend=None)\n",
    "plt.title('NSW Daily Covid Cases')\n",
    "plt.xlabel('Date')\n",
    "plt.ylabel('Cases')"
   ]
  },
  {
   "cell_type": "code",
   "execution_count": 158,
   "id": "51a0fbd5",
   "metadata": {},
   "outputs": [
    {
     "data": {
      "text/plain": [
       "Text(0, 0.5, 'Cases')"
      ]
     },
     "execution_count": 158,
     "metadata": {},
     "output_type": "execute_result"
    },
    {
     "data": {
      "image/png": "[encoded data removed]",
      "text/plain": [
       "<Figure size 1080x360 with 1 Axes>"
      ]
     },
     "metadata": {
      "needs_background": "light"
     },
     "output_type": "display_data"
    }
   ],
   "source": [
    "df_NSW[:120].plot(x='DATE', y='CASES', legend=None)\n",
    "plt.title('NSW Cumulative Covid Cases')\n",
    "#plt.yscale('log')\n",
    "plt.xlabel('Date')\n",
    "plt.ylabel('Cases')"
   ]
  },
  {
   "cell_type": "code",
   "execution_count": 223,
   "id": "e955adc6",
   "metadata": {},
   "outputs": [
    {
     "name": "stdout",
     "output_type": "stream",
     "text": [
      "https://covidlive.com.au/report/daily-cases/nsw\n",
      "https://covidlive.com.au/report/daily-cases/vic\n",
      "https://covidlive.com.au/report/daily-cases/qld\n",
      "https://covidlive.com.au/report/daily-cases/tas\n",
      "https://covidlive.com.au/report/daily-cases/sa\n",
      "https://covidlive.com.au/report/daily-cases/nt\n",
      "https://covidlive.com.au/report/daily-cases/wa\n",
      "https://covidlive.com.au/report/daily-cases/act\n",
      "https://covidlive.com.au/report/daily-cases/aus\n"
     ]
    }
   ],
   "source": [
    "#automate gathering data for each state\n",
    "\n",
    "states = ['nsw', 'vic', 'qld','tas', 'sa', 'nt', 'wa', 'act', 'aus']\n",
    "url_link = 'https://covidlive.com.au/report/daily-cases/{}'\n",
    "\n",
    "for state in states:\n",
    "  url = url_link.format(state) \n",
    "  print(url)\n",
    "    "
   ]
  },
  {
   "cell_type": "code",
   "execution_count": 168,
   "id": "ab3ba4b2",
   "metadata": {},
   "outputs": [
    {
     "data": {
      "text/plain": [
       "'https://covidlive.com.au/report/daily-hospitalised/nsw'"
      ]
     },
     "execution_count": 168,
     "metadata": {},
     "output_type": "execute_result"
    }
   ],
   "source": [
    "url2 = \"https://covidlive.com.au/report/daily-hospitalised/nsw\"\n",
    "url2"
   ]
  },
  {
   "cell_type": "code",
   "execution_count": 179,
   "id": "287fb3c2",
   "metadata": {},
   "outputs": [],
   "source": [
    "hosp = pd.read_html(url2, header=0)\n",
    "hosp = hosp[1]\n",
    "# Fill in any NA's with a 0\n",
    "hosp.HOSP = NSW.NEW.fillna(0)\n",
    "# Convert the date to a python format\n",
    "hosp.DATE = pd.to_datetime(hosp.DATE, format='%d %b %y')"
   ]
  },
  {
   "cell_type": "code",
   "execution_count": 226,
   "id": "0fff2d7f",
   "metadata": {},
   "outputs": [
    {
     "data": {
      "text/plain": [
       "<AxesSubplot:xlabel='DATE'>"
      ]
     },
     "execution_count": 226,
     "metadata": {},
     "output_type": "execute_result"
    },
    {
     "data": {
      "image/png": "[encoded data removed]",
      "text/plain": [
       "<Figure size 1200x400 with 1 Axes>"
      ]
     },
     "metadata": {},
     "output_type": "display_data"
    }
   ],
   "source": [
    "hosp[1:200].plot(x='DATE', y='HOSP', legend=None)"
   ]
  },
  {
   "cell_type": "code",
   "execution_count": 177,
   "id": "13a85faf",
   "metadata": {},
   "outputs": [
    {
     "data": {
      "text/plain": [
       "[                   COVID LIVE         43.5%        11.7K  152\n",
       " 0  Last updated 8 minutes ago  3rd Dose 16+  Cases 7d Av  ICU,\n",
       "           DATE    HOSP  ICU  VENT\n",
       " 0    05 Feb 22  2337.0  152    70\n",
       " 1    04 Feb 22  2494.0  160    75\n",
       " 2    03 Feb 22  2578.0  160    68\n",
       " 3    02 Feb 22  2623.0  170    72\n",
       " 4    01 Feb 22  2749.0  186    70\n",
       " ..         ...     ...  ...   ...\n",
       " 671  05 Apr 20   118.0   39    23\n",
       " 672  04 Apr 20     NaN   41    23\n",
       " 673  03 Apr 20     NaN   42    22\n",
       " 674  02 Apr 20     NaN   43    20\n",
       " 675  01 Apr 20     NaN   42    22\n",
       " \n",
       " [676 rows x 4 columns]]"
      ]
     },
     "execution_count": 177,
     "metadata": {},
     "output_type": "execute_result"
    }
   ],
   "source": [
    "hosp\n"
   ]
  },
  {
   "cell_type": "code",
   "execution_count": 184,
   "id": "aa1483d0",
   "metadata": {},
   "outputs": [
    {
     "data": {
      "text/plain": [
       "'https://covidlive.com.au/report/daily-deaths/nsw'"
      ]
     },
     "execution_count": 184,
     "metadata": {},
     "output_type": "execute_result"
    }
   ],
   "source": [
    "url3 = \"https://covidlive.com.au/report/daily-deaths/nsw\"\n",
    "url3\n",
    "\n"
   ]
  },
  {
   "cell_type": "markdown",
   "id": "014525ca",
   "metadata": {},
   "source": [
    "#2 Path to Paper\n",
    "https://msan.gouvernement.lu/dam-assets/covid-19/graph/Description-reproduction-numbers.pdf"
   ]
  },
  {
   "cell_type": "code",
   "execution_count": 197,
   "id": "3c5dc6b1",
   "metadata": {},
   "outputs": [],
   "source": [
    "deaths = pd.read_html(url3, header=0)\n",
    "deaths = deaths[1]\n",
    "# Fill in any NA's with a 0\n",
    "deaths.DEATHS = deaths.DEATHS.fillna(0)\n",
    "# Convert the date to a python format\n",
    "deaths.DATE = pd.to_datetime(deaths.DATE, format='%d %b %y')"
   ]
  },
  {
   "cell_type": "code",
   "execution_count": 194,
   "id": "80c9e166",
   "metadata": {},
   "outputs": [
    {
     "data": {
      "text/html": [
       "<div>\n",
       "<style scoped>\n",
       "    .dataframe tbody tr th:only-of-type {\n",
       "        vertical-align: middle;\n",
       "    }\n",
       "\n",
       "    .dataframe tbody tr th {\n",
       "        vertical-align: top;\n",
       "    }\n",
       "\n",
       "    .dataframe thead th {\n",
       "        text-align: right;\n",
       "    }\n",
       "</style>\n",
       "<table border=\"1\" class=\"dataframe\">\n",
       "  <thead>\n",
       "    <tr style=\"text-align: right;\">\n",
       "      <th></th>\n",
       "      <th>DATE</th>\n",
       "      <th>DEATHS</th>\n",
       "      <th>VAR</th>\n",
       "      <th>NET</th>\n",
       "    </tr>\n",
       "  </thead>\n",
       "  <tbody>\n",
       "    <tr>\n",
       "      <th>0</th>\n",
       "      <td>05 Feb 22</td>\n",
       "      <td>1536</td>\n",
       "      <td>NaN</td>\n",
       "      <td>18</td>\n",
       "    </tr>\n",
       "    <tr>\n",
       "      <th>1</th>\n",
       "      <td>04 Feb 22</td>\n",
       "      <td>1518</td>\n",
       "      <td>NaN</td>\n",
       "      <td>31</td>\n",
       "    </tr>\n",
       "    <tr>\n",
       "      <th>2</th>\n",
       "      <td>03 Feb 22</td>\n",
       "      <td>1487</td>\n",
       "      <td>NaN</td>\n",
       "      <td>38</td>\n",
       "    </tr>\n",
       "    <tr>\n",
       "      <th>3</th>\n",
       "      <td>02 Feb 22</td>\n",
       "      <td>1449</td>\n",
       "      <td>NaN</td>\n",
       "      <td>27</td>\n",
       "    </tr>\n",
       "    <tr>\n",
       "      <th>4</th>\n",
       "      <td>01 Feb 22</td>\n",
       "      <td>1422</td>\n",
       "      <td>NaN</td>\n",
       "      <td>30</td>\n",
       "    </tr>\n",
       "    <tr>\n",
       "      <th>...</th>\n",
       "      <td>...</td>\n",
       "      <td>...</td>\n",
       "      <td>...</td>\n",
       "      <td>...</td>\n",
       "    </tr>\n",
       "    <tr>\n",
       "      <th>702</th>\n",
       "      <td>05 Mar 20</td>\n",
       "      <td>1</td>\n",
       "      <td>NaN</td>\n",
       "      <td>0</td>\n",
       "    </tr>\n",
       "    <tr>\n",
       "      <th>703</th>\n",
       "      <td>04 Mar 20</td>\n",
       "      <td>1</td>\n",
       "      <td>NaN</td>\n",
       "      <td>0</td>\n",
       "    </tr>\n",
       "    <tr>\n",
       "      <th>704</th>\n",
       "      <td>03 Mar 20</td>\n",
       "      <td>1</td>\n",
       "      <td>NaN</td>\n",
       "      <td>1</td>\n",
       "    </tr>\n",
       "    <tr>\n",
       "      <th>705</th>\n",
       "      <td>02 Mar 20</td>\n",
       "      <td>0</td>\n",
       "      <td>NaN</td>\n",
       "      <td>0</td>\n",
       "    </tr>\n",
       "    <tr>\n",
       "      <th>706</th>\n",
       "      <td>01 Mar 20</td>\n",
       "      <td>0</td>\n",
       "      <td>NaN</td>\n",
       "      <td>0</td>\n",
       "    </tr>\n",
       "  </tbody>\n",
       "</table>\n",
       "<p>707 rows × 4 columns</p>\n",
       "</div>"
      ],
      "text/plain": [
       "          DATE  DEATHS  VAR  NET\n",
       "0    05 Feb 22    1536  NaN   18\n",
       "1    04 Feb 22    1518  NaN   31\n",
       "2    03 Feb 22    1487  NaN   38\n",
       "3    02 Feb 22    1449  NaN   27\n",
       "4    01 Feb 22    1422  NaN   30\n",
       "..         ...     ...  ...  ...\n",
       "702  05 Mar 20       1  NaN    0\n",
       "703  04 Mar 20       1  NaN    0\n",
       "704  03 Mar 20       1  NaN    1\n",
       "705  02 Mar 20       0  NaN    0\n",
       "706  01 Mar 20       0  NaN    0\n",
       "\n",
       "[707 rows x 4 columns]"
      ]
     },
     "execution_count": 194,
     "metadata": {},
     "output_type": "execute_result"
    }
   ],
   "source": []
  },
  {
   "cell_type": "code",
   "execution_count": 230,
   "id": "4d255490",
   "metadata": {},
   "outputs": [
    {
     "data": {
      "text/plain": [
       "<AxesSubplot:xlabel='DATE'>"
      ]
     },
     "execution_count": 230,
     "metadata": {},
     "output_type": "execute_result"
    },
    {
     "data": {
      "image/png": "[encoded data removed]",
      "text/plain": [
       "<Figure size 1200x400 with 1 Axes>"
      ]
     },
     "metadata": {},
     "output_type": "display_data"
    }
   ],
   "source": [
    "deaths[1:200].plot(x='DATE', y='NET', legend=None, style='y')"
   ]
  },
  {
   "cell_type": "code",
   "execution_count": 222,
   "id": "b1d82a01",
   "metadata": {},
   "outputs": [
    {
     "ename": "AttributeError",
     "evalue": "'DataFrame' object has no attribute 'DATES'",
     "output_type": "error",
     "traceback": [
      "\u001b[1;31m---------------------------------------------------------------------------\u001b[0m",
      "\u001b[1;31mAttributeError\u001b[0m                            Traceback (most recent call last)",
      "\u001b[1;32m<ipython-input-222-ee51913d0ef5>\u001b[0m in \u001b[0;36m<module>\u001b[1;34m\u001b[0m\n\u001b[1;32m----> 1\u001b[1;33m \u001b[0mX\u001b[0m \u001b[1;33m=\u001b[0m \u001b[0mNSW\u001b[0m\u001b[1;33m.\u001b[0m\u001b[0mDATES\u001b[0m\u001b[1;33m\u001b[0m\u001b[1;33m\u001b[0m\u001b[0m\n\u001b[0m",
      "\u001b[1;32m~\\Anaconda3\\lib\\site-packages\\pandas\\core\\generic.py\u001b[0m in \u001b[0;36m__getattr__\u001b[1;34m(self, name)\u001b[0m\n\u001b[0;32m   5463\u001b[0m             \u001b[1;32mif\u001b[0m \u001b[0mself\u001b[0m\u001b[1;33m.\u001b[0m\u001b[0m_info_axis\u001b[0m\u001b[1;33m.\u001b[0m\u001b[0m_can_hold_identifiers_and_holds_name\u001b[0m\u001b[1;33m(\u001b[0m\u001b[0mname\u001b[0m\u001b[1;33m)\u001b[0m\u001b[1;33m:\u001b[0m\u001b[1;33m\u001b[0m\u001b[1;33m\u001b[0m\u001b[0m\n\u001b[0;32m   5464\u001b[0m                 \u001b[1;32mreturn\u001b[0m \u001b[0mself\u001b[0m\u001b[1;33m[\u001b[0m\u001b[0mname\u001b[0m\u001b[1;33m]\u001b[0m\u001b[1;33m\u001b[0m\u001b[1;33m\u001b[0m\u001b[0m\n\u001b[1;32m-> 5465\u001b[1;33m             \u001b[1;32mreturn\u001b[0m \u001b[0mobject\u001b[0m\u001b[1;33m.\u001b[0m\u001b[0m__getattribute__\u001b[0m\u001b[1;33m(\u001b[0m\u001b[0mself\u001b[0m\u001b[1;33m,\u001b[0m \u001b[0mname\u001b[0m\u001b[1;33m)\u001b[0m\u001b[1;33m\u001b[0m\u001b[1;33m\u001b[0m\u001b[0m\n\u001b[0m\u001b[0;32m   5466\u001b[0m \u001b[1;33m\u001b[0m\u001b[0m\n\u001b[0;32m   5467\u001b[0m     \u001b[1;32mdef\u001b[0m \u001b[0m__setattr__\u001b[0m\u001b[1;33m(\u001b[0m\u001b[0mself\u001b[0m\u001b[1;33m,\u001b[0m \u001b[0mname\u001b[0m\u001b[1;33m:\u001b[0m \u001b[0mstr\u001b[0m\u001b[1;33m,\u001b[0m \u001b[0mvalue\u001b[0m\u001b[1;33m)\u001b[0m \u001b[1;33m->\u001b[0m \u001b[1;32mNone\u001b[0m\u001b[1;33m:\u001b[0m\u001b[1;33m\u001b[0m\u001b[1;33m\u001b[0m\u001b[0m\n",
      "\u001b[1;31mAttributeError\u001b[0m: 'DataFrame' object has no attribute 'DATES'"
     ]
    }
   ],
   "source": [
    "X = NSW.DATES"
   ]
  },
  {
   "cell_type": "code",
   "execution_count": null,
   "id": "eb03c061",
   "metadata": {},
   "outputs": [],
   "source": []
  }
 ],
 "metadata": {
  "kernelspec": {
   "display_name": "Python 3",
   "language": "python",
   "name": "python3"
  },
  "language_info": {
   "codemirror_mode": {
    "name": "ipython",
    "version": 3
   },
   "file_extension": ".py",
   "mimetype": "text/x-python",
   "name": "python",
   "nbconvert_exporter": "python",
   "pygments_lexer": "ipython3",
   "version": "3.8.8"
  },
  "toc": {
   "base_numbering": 1,
   "nav_menu": {},
   "number_sections": true,
   "sideBar": true,
   "skip_h1_title": false,
   "title_cell": "Table of Contents",
   "title_sidebar": "Contents",
   "toc_cell": false,
   "toc_position": {},
   "toc_section_display": true,
   "toc_window_display": false
  },
  "varInspector": {
   "cols": {
    "lenName": 16,
    "lenType": 16,
    "lenVar": 40
   },
   "kernels_config": {
    "python": {
     "delete_cmd_postfix": "",
     "delete_cmd_prefix": "del ",
     "library": "var_list.py",
     "varRefreshCmd": "print(var_dic_list())"
    },
    "r": {
     "delete_cmd_postfix": ") ",
     "delete_cmd_prefix": "rm(",
     "library": "var_list.r",
     "varRefreshCmd": "cat(var_dic_list()) "
    }
   },
   "types_to_exclude": [
    "module",
    "function",
    "builtin_function_or_method",
    "instance",
    "_Feature"
   ],
   "window_display": false
  }
 },
 "nbformat": 4,
 "nbformat_minor": 5
}
